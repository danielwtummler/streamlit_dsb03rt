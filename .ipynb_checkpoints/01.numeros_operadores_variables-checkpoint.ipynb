{
 "cells": [
  {
   "cell_type": "code",
   "execution_count": 22,
   "id": "a95a1c9b",
   "metadata": {},
   "outputs": [
    {
     "data": {
      "text/plain": [
       "100"
      ]
     },
     "execution_count": 22,
     "metadata": {},
     "output_type": "execute_result"
    }
   ],
   "source": [
    "# Exponente\n",
    "10**2"
   ]
  },
  {
   "cell_type": "code",
   "execution_count": 23,
   "id": "5c033cf3",
   "metadata": {},
   "outputs": [
    {
     "data": {
      "text/plain": [
       "3.3333333333333335"
      ]
     },
     "execution_count": 23,
     "metadata": {},
     "output_type": "execute_result"
    }
   ],
   "source": [
    "# División Entera (retorna la parte entera de la división)\n",
    "10/3"
   ]
  },
  {
   "cell_type": "code",
   "execution_count": 24,
   "id": "d7fed80e",
   "metadata": {},
   "outputs": [
    {
     "data": {
      "text/plain": [
       "3"
      ]
     },
     "execution_count": 24,
     "metadata": {},
     "output_type": "execute_result"
    }
   ],
   "source": [
    "10//3"
   ]
  },
  {
   "cell_type": "markdown",
   "id": "a9dad416",
   "metadata": {},
   "source": [
    "## Variables\n",
    "\n",
    "En python podemos inicializar variables con cualquier tipo de dato que queramos utilizando el operador `=`.\n",
    "\n",
    "- Al nombrar una variable podemos utilizar letras minúsculas (a-z), letras mayúsculas (A-Z), números (0-9) y underscore (_).\n",
    "\n",
    "\n",
    "- Los nombres de las variables NO pueden empezar por un número.\n",
    "\n",
    "\n",
    "- Aunque es posible, es considerado como mala práctica utilizar palabras reservadas para nombrar variables.\n",
    "\n",
    "\n",
    "- Las variables no pueden solo contener digitos.\n",
    "\n",
    "\n",
    "- Las variables son \"case sensitive\", es decir, diferencian entre mayúsculas y minúsculas."
   ]
  },
  {
   "cell_type": "code",
   "execution_count": 25,
   "id": "061aff20",
   "metadata": {},
   "outputs": [],
   "source": [
    "# Cuando inicializamos una variable el valor no se muestra en pantalla\n",
    "\n",
    "a = 10"
   ]
  },
  {
   "cell_type": "code",
   "execution_count": 28,
   "id": "fefdb6c2",
   "metadata": {},
   "outputs": [
    {
     "data": {
      "text/plain": [
       "10"
      ]
     },
     "execution_count": 28,
     "metadata": {},
     "output_type": "execute_result"
    }
   ],
   "source": [
    "a"
   ]
  },
  {
   "cell_type": "markdown",
   "id": "3f534dc2",
   "metadata": {},
   "source": [
    "Podemos asignarle a una variable el resultado de una operación:"
   ]
  },
  {
   "cell_type": "code",
   "execution_count": 29,
   "id": "27f45f21",
   "metadata": {},
   "outputs": [
    {
     "data": {
      "text/plain": [
       "11"
      ]
     },
     "execution_count": 29,
     "metadata": {},
     "output_type": "execute_result"
    }
   ],
   "source": [
    "a = 10 + 1\n",
    "\n",
    "a"
   ]
  },
  {
   "cell_type": "markdown",
   "id": "2c32208c",
   "metadata": {},
   "source": [
    "Y podemos verificar que tipo de dato es una variable:"
   ]
  },
  {
   "cell_type": "code",
   "execution_count": 30,
   "id": "fcd1286d",
   "metadata": {},
   "outputs": [
    {
     "data": {
      "text/plain": [
       "int"
      ]
     },
     "execution_count": 30,
     "metadata": {},
     "output_type": "execute_result"
    }
   ],
   "source": [
    "type(a)"
   ]
  },
  {
   "cell_type": "code",
   "execution_count": 31,
   "id": "af40b2bc",
   "metadata": {},
   "outputs": [
    {
     "data": {
      "text/plain": [
       "float"
      ]
     },
     "execution_count": 31,
     "metadata": {},
     "output_type": "execute_result"
    }
   ],
   "source": [
    "b = 3.14\n",
    "\n",
    "type(b)"
   ]
  },
  {
   "cell_type": "code",
   "execution_count": 32,
   "id": "4db5fbcc",
   "metadata": {},
   "outputs": [
    {
     "data": {
      "text/plain": [
       "19.9"
      ]
     },
     "execution_count": 32,
     "metadata": {},
     "output_type": "execute_result"
    }
   ],
   "source": [
    "entero = 10\n",
    "decimal = 9.9\n",
    "\n",
    "suma = entero + decimal\n",
    "\n",
    "suma"
   ]
  },
  {
   "cell_type": "code",
   "execution_count": 33,
   "id": "4b78a89b",
   "metadata": {},
   "outputs": [
    {
     "data": {
      "text/plain": [
       "float"
      ]
     },
     "execution_count": 33,
     "metadata": {},
     "output_type": "execute_result"
    }
   ],
   "source": [
    "type(suma)"
   ]
  },
  {
   "cell_type": "code",
   "execution_count": 34,
   "id": "6a149fe3",
   "metadata": {},
   "outputs": [
    {
     "data": {
      "text/plain": [
       "3"
      ]
     },
     "execution_count": 34,
     "metadata": {},
     "output_type": "execute_result"
    }
   ],
   "source": [
    "modulo = 7 % 4\n",
    "\n",
    "modulo"
   ]
  },
  {
   "cell_type": "code",
   "execution_count": null,
   "id": "1a1d2e7a",
   "metadata": {},
   "outputs": [],
   "source": [
    "################################################################################################################################"
   ]
  }
 ],
 "metadata": {
  "kernelspec": {
   "display_name": "Python 3 (ipykernel)",
   "language": "python",
   "name": "python3"
  },
  "language_info": {
   "codemirror_mode": {
    "name": "ipython",
    "version": 3
   },
   "file_extension": ".py",
   "mimetype": "text/x-python",
   "name": "python",
   "nbconvert_exporter": "python",
   "pygments_lexer": "ipython3",
   "version": "3.9.12"
  }
 },
 "nbformat": 4,
 "nbformat_minor": 5
}
