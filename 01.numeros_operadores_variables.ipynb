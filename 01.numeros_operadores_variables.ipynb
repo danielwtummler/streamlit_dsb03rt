{
 "cells": [
  {
   "cell_type": "markdown",
   "id": "2d4b2799",
   "metadata": {},
   "source": [
    "## Números (int & float)\n",
    "\n",
    "En python podemos representar números usando tres tipos de datos diferentes: **int, float & complex**.\n",
    "- **int:** se usa para representar números enteros, pueden ser positivos, negativos y el cero.\n",
    "    - En python, se representa usando **int (integer o entero)**.\n",
    "    \n",
    "    \n",
    "- **float:** se usa para repersentar los números con coma decimal, estos pueden ser positivos, negativos y el cero.\n",
    "    - En python, se representan usando **float (floating point o punto flotante)**.\n",
    "    \n",
    "    \n",
    "- **complex:** se usa para representar números reales con parte imaginaria `a + bi`.\n",
    "    - En python, se representan usando **complex (complejos)**\n",
    "    \n",
    "\n",
    "Podemos verificar el tipo de dato de un número usando la función **`type()`**."
   ]
  },
  {
   "cell_type": "code",
   "execution_count": 1,
   "id": "3f3bb9ac",
   "metadata": {},
   "outputs": [
    {
     "data": {
      "text/plain": [
       "10"
      ]
     },
     "execution_count": 1,
     "metadata": {},
     "output_type": "execute_result"
    }
   ],
   "source": [
    "10"
   ]
  },
  {
   "cell_type": "code",
   "execution_count": 2,
   "id": "1f2d1f4f",
   "metadata": {},
   "outputs": [
    {
     "data": {
      "text/plain": [
       "(1+1j)"
      ]
     },
     "execution_count": 2,
     "metadata": {},
     "output_type": "execute_result"
    }
   ],
   "source": [
    "complex(1, 1)"
   ]
  },
  {
   "cell_type": "code",
   "execution_count": 3,
   "id": "37bad5ff",
   "metadata": {},
   "outputs": [
    {
     "data": {
      "text/plain": [
       "int"
      ]
     },
     "execution_count": 3,
     "metadata": {},
     "output_type": "execute_result"
    }
   ],
   "source": [
    "type(10)"
   ]
  },
  {
   "cell_type": "code",
   "execution_count": 4,
   "id": "2ba6b101",
   "metadata": {},
   "outputs": [
    {
     "data": {
      "text/plain": [
       "3.14"
      ]
     },
     "execution_count": 4,
     "metadata": {},
     "output_type": "execute_result"
    }
   ],
   "source": [
    "3.14"
   ]
  },
  {
   "cell_type": "code",
   "execution_count": 5,
   "id": "deb4fbe4",
   "metadata": {},
   "outputs": [
    {
     "data": {
      "text/plain": [
       "float"
      ]
     },
     "execution_count": 5,
     "metadata": {},
     "output_type": "execute_result"
    }
   ],
   "source": [
    "type(3.14)"
   ]
  },
  {
   "cell_type": "markdown",
   "id": "9ebe6862",
   "metadata": {},
   "source": [
    "## Operadores Aritméticos\n",
    "\n",
    "Son operaciones aritmeticas que se pueden utilizar con diferentes tipos de datos en python:\n",
    "\n",
    "| Operador | Operación      | Ejemplo |\n",
    "|----------|----------------|---------|\n",
    "| +        | Suma           | x + y   |\n",
    "| -        | Resta          | x - y   |\n",
    "| *        | Multiplicación | x * y   |\n",
    "| /        | División       | x / y   |\n",
    "| %        | Modulo         | x % y   |\n",
    "| **       | Exponente      | x ** y  |\n",
    "| //       | División Entera| x // y  |"
   ]
  },
  {
   "cell_type": "code",
   "execution_count": 6,
   "id": "ece99ec0",
   "metadata": {},
   "outputs": [
    {
     "data": {
      "text/plain": [
       "11"
      ]
     },
     "execution_count": 6,
     "metadata": {},
     "output_type": "execute_result"
    }
   ],
   "source": [
    "# Suma\n",
    "10 + 1"
   ]
  },
  {
   "cell_type": "code",
   "execution_count": 7,
   "id": "d36975bb",
   "metadata": {},
   "outputs": [
    {
     "data": {
      "text/plain": [
       "int"
      ]
     },
     "execution_count": 7,
     "metadata": {},
     "output_type": "execute_result"
    }
   ],
   "source": [
    "type(10 + 1)"
   ]
  },
  {
   "cell_type": "code",
   "execution_count": 8,
   "id": "bb5714a7",
   "metadata": {},
   "outputs": [
    {
     "data": {
      "text/plain": [
       "1.9"
      ]
     },
     "execution_count": 8,
     "metadata": {},
     "output_type": "execute_result"
    }
   ],
   "source": [
    "# Resta\n",
    "3.3 - 1.4"
   ]
  },
  {
   "cell_type": "code",
   "execution_count": 12,
   "id": "6f6b9925",
   "metadata": {},
   "outputs": [
    {
     "data": {
      "text/plain": [
       "float"
      ]
     },
     "execution_count": 12,
     "metadata": {},
     "output_type": "execute_result"
    }
   ],
   "source": [
    "type(3.3 - 1.3)"
   ]
  },
  {
   "cell_type": "code",
   "execution_count": 15,
   "id": "b15ec753",
   "metadata": {},
   "outputs": [
    {
     "data": {
      "text/plain": [
       "float"
      ]
     },
     "execution_count": 15,
     "metadata": {},
     "output_type": "execute_result"
    }
   ],
   "source": [
    "type(2 + 1.5)"
   ]
  },
  {
   "cell_type": "code",
   "execution_count": 16,
   "id": "51204628",
   "metadata": {},
   "outputs": [
    {
     "data": {
      "text/plain": [
       "0.6666666666666666"
      ]
     },
     "execution_count": 16,
     "metadata": {},
     "output_type": "execute_result"
    }
   ],
   "source": [
    "# División\n",
    "2/3"
   ]
  },
  {
   "cell_type": "code",
   "execution_count": 18,
   "id": "71b70b9d",
   "metadata": {},
   "outputs": [
    {
     "data": {
      "text/plain": [
       "50"
      ]
     },
     "execution_count": 18,
     "metadata": {},
     "output_type": "execute_result"
    }
   ],
   "source": [
    "# Multiplicación\n",
    "5*10"
   ]
  },
  {
   "cell_type": "code",
   "execution_count": 20,
   "id": "3d879483",
   "metadata": {},
   "outputs": [
    {
     "data": {
      "text/plain": [
       "2"
      ]
     },
     "execution_count": 20,
     "metadata": {},
     "output_type": "execute_result"
    }
   ],
   "source": [
    "# Modulo (el resto de dividir x en y partes)\n",
    "6 % 4"
   ]
  },
  {
   "cell_type": "code",
   "execution_count": 21,
   "id": "a867feef",
   "metadata": {},
   "outputs": [
    {
     "data": {
      "text/plain": [
       "1"
      ]
     },
     "execution_count": 21,
     "metadata": {},
     "output_type": "execute_result"
    }
   ],
   "source": [
    "4 % 3"
   ]
  },
  {
   "cell_type": "code",
   "execution_count": 22,
   "id": "a95a1c9b",
   "metadata": {},
   "outputs": [
    {
     "data": {
      "text/plain": [
       "100"
      ]
     },
     "execution_count": 22,
     "metadata": {},
     "output_type": "execute_result"
    }
   ],
   "source": [
    "# Exponente\n",
    "10**2"
   ]
  },
  {
   "cell_type": "code",
   "execution_count": 23,
   "id": "5c033cf3",
   "metadata": {},
   "outputs": [
    {
     "data": {
      "text/plain": [
       "3.3333333333333335"
      ]
     },
     "execution_count": 23,
     "metadata": {},
     "output_type": "execute_result"
    }
   ],
   "source": [
    "# División Entera (retorna la parte entera de la división)\n",
    "10/3"
   ]
  },
  {
   "cell_type": "code",
   "execution_count": 24,
   "id": "d7fed80e",
   "metadata": {},
   "outputs": [
    {
     "data": {
      "text/plain": [
       "3"
      ]
     },
     "execution_count": 24,
     "metadata": {},
     "output_type": "execute_result"
    }
   ],
   "source": [
    "10//3"
   ]
  },
  {
   "cell_type": "markdown",
   "id": "a9dad416",
   "metadata": {},
   "source": [
    "## Variables\n",
    "\n",
    "En python podemos inicializar variables con cualquier tipo de dato que queramos utilizando el operador `=`.\n",
    "\n",
    "- Al nombrar una variable podemos utilizar letras minúsculas (a-z), letras mayúsculas (A-Z), números (0-9) y underscore (_).\n",
    "\n",
    "\n",
    "- Los nombres de las variables NO pueden empezar por un número.\n",
    "\n",
    "\n",
    "- Aunque es posible, es considerado como mala práctica utilizar palabras reservadas para nombrar variables.\n",
    "\n",
    "\n",
    "- Las variables no pueden solo contener digitos.\n",
    "\n",
    "\n",
    "- Las variables son \"case sensitive\", es decir, diferencian entre mayúsculas y minúsculas."
   ]
  },
  {
   "cell_type": "code",
   "execution_count": 25,
   "id": "061aff20",
   "metadata": {},
   "outputs": [],
   "source": [
    "# Cuando inicializamos una variable el valor no se muestra en pantalla\n",
    "\n",
    "a = 10"
   ]
  },
  {
   "cell_type": "code",
   "execution_count": 28,
   "id": "fefdb6c2",
   "metadata": {},
   "outputs": [
    {
     "data": {
      "text/plain": [
       "10"
      ]
     },
     "execution_count": 28,
     "metadata": {},
     "output_type": "execute_result"
    }
   ],
   "source": [
    "a"
   ]
  },
  {
   "cell_type": "markdown",
   "id": "3f534dc2",
   "metadata": {},
   "source": [
    "Podemos asignarle a una variable el resultado de una operación:"
   ]
  },
  {
   "cell_type": "code",
   "execution_count": 29,
   "id": "27f45f21",
   "metadata": {},
   "outputs": [
    {
     "data": {
      "text/plain": [
       "11"
      ]
     },
     "execution_count": 29,
     "metadata": {},
     "output_type": "execute_result"
    }
   ],
   "source": [
    "a = 10 + 1\n",
    "\n",
    "a"
   ]
  },
  {
   "cell_type": "markdown",
   "id": "2c32208c",
   "metadata": {},
   "source": [
    "Y podemos verificar que tipo de dato es una variable:"
   ]
  },
  {
   "cell_type": "code",
   "execution_count": 30,
   "id": "fcd1286d",
   "metadata": {},
   "outputs": [
    {
     "data": {
      "text/plain": [
       "int"
      ]
     },
     "execution_count": 30,
     "metadata": {},
     "output_type": "execute_result"
    }
   ],
   "source": [
    "type(a)"
   ]
  },
  {
   "cell_type": "code",
   "execution_count": 31,
   "id": "af40b2bc",
   "metadata": {},
   "outputs": [
    {
     "data": {
      "text/plain": [
       "float"
      ]
     },
     "execution_count": 31,
     "metadata": {},
     "output_type": "execute_result"
    }
   ],
   "source": [
    "b = 3.14\n",
    "\n",
    "type(b)"
   ]
  },
  {
   "cell_type": "code",
   "execution_count": 32,
   "id": "4db5fbcc",
   "metadata": {},
   "outputs": [
    {
     "data": {
      "text/plain": [
       "19.9"
      ]
     },
     "execution_count": 32,
     "metadata": {},
     "output_type": "execute_result"
    }
   ],
   "source": [
    "entero = 10\n",
    "decimal = 9.9\n",
    "\n",
    "suma = entero + decimal\n",
    "\n",
    "suma"
   ]
  },
  {
   "cell_type": "code",
   "execution_count": 33,
   "id": "4b78a89b",
   "metadata": {},
   "outputs": [
    {
     "data": {
      "text/plain": [
       "float"
      ]
     },
     "execution_count": 33,
     "metadata": {},
     "output_type": "execute_result"
    }
   ],
   "source": [
    "type(suma)"
   ]
  },
  {
   "cell_type": "code",
   "execution_count": 34,
   "id": "6a149fe3",
   "metadata": {},
   "outputs": [
    {
     "data": {
      "text/plain": [
       "3"
      ]
     },
     "execution_count": 34,
     "metadata": {},
     "output_type": "execute_result"
    }
   ],
   "source": [
    "modulo = 7 % 4\n",
    "\n",
    "modulo"
   ]
  },
  {
   "cell_type": "code",
   "execution_count": null,
   "id": "1a1d2e7a",
   "metadata": {},
   "outputs": [],
   "source": [
    "################################################################################################################################"
   ]
  }
 ],
 "metadata": {
  "kernelspec": {
   "display_name": "Python 3 (ipykernel)",
   "language": "python",
   "name": "python3"
  },
  "language_info": {
   "codemirror_mode": {
    "name": "ipython",
    "version": 3
   },
   "file_extension": ".py",
   "mimetype": "text/x-python",
   "name": "python",
   "nbconvert_exporter": "python",
   "pygments_lexer": "ipython3",
   "version": "3.9.12"
  }
 },
 "nbformat": 4,
 "nbformat_minor": 5
}
