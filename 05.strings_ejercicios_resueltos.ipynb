{
 "cells": [
  {
   "cell_type": "markdown",
   "id": "18454d15",
   "metadata": {},
   "source": [
    "### Ejercicios clase de Strings"
   ]
  },
  {
   "cell_type": "code",
   "execution_count": null,
   "id": "bae6c2a9",
   "metadata": {},
   "outputs": [],
   "source": [
    "frase = \"Nunca confies en un ordenador que no puedas lanzar por una ventana -- Steve Wozniak\"\n",
    "\n",
    "print(frase)"
   ]
  },
  {
   "cell_type": "markdown",
   "id": "605874f4",
   "metadata": {},
   "source": [
    "- Obtener el largo de la frase"
   ]
  },
  {
   "cell_type": "code",
   "execution_count": null,
   "id": "9ce4991c",
   "metadata": {},
   "outputs": [],
   "source": [
    "len(frase)"
   ]
  },
  {
   "cell_type": "markdown",
   "id": "8fe445bf",
   "metadata": {},
   "source": [
    "- Obtener la frase **\"lanzar por la ventana\"** usando slicing"
   ]
  },
  {
   "cell_type": "code",
   "execution_count": null,
   "id": "dd8049a0",
   "metadata": {},
   "outputs": [],
   "source": [
    "frase[44:66]"
   ]
  },
  {
   "cell_type": "markdown",
   "id": "e50eb318",
   "metadata": {},
   "source": [
    "- Obtener la sección **\"confies en un ordenador\"** haciando slicing de derecha a izquierda, utilizando indexing negativo"
   ]
  },
  {
   "cell_type": "code",
   "execution_count": null,
   "id": "9299725f",
   "metadata": {},
   "outputs": [],
   "source": [
    "frase[-77:-54]"
   ]
  },
  {
   "cell_type": "markdown",
   "id": "f64534b8",
   "metadata": {},
   "source": [
    "1. Guardar en la variable: subfrase1, la siguiente sección de la variable frase: **\"un ordenador\"**\n",
    "2. Guardar en la variable: subfrase2, la siguiente sección de la variable frase: **\"por una ventanza\"**\n",
    "3. Guardar en la variable: subfrase3, la siguiente sección de la variable frase: **\"Steve Wozniak\"**\n",
    "3. Crear la siguiente frase utilizando las variables: subfrase1, subfrase2, subfrase3: **\"un ordenador,por una ventana--Steve Wozniak\"** y guardarla en una variable."
   ]
  },
  {
   "cell_type": "code",
   "execution_count": null,
   "id": "eae3f714",
   "metadata": {},
   "outputs": [],
   "source": [
    "subfrase1 = frase[17 : 29]\n",
    "subfrase2 = frase[51 : 66]\n",
    "subfrase3 = frase[70:]"
   ]
  },
  {
   "cell_type": "code",
   "execution_count": null,
   "id": "32dec2c4",
   "metadata": {},
   "outputs": [],
   "source": [
    "nueva_frase = subfrase1 + \",\" + subfrase2 + \"--\" + subfrase3"
   ]
  },
  {
   "cell_type": "code",
   "execution_count": null,
   "id": "2a36dfd5",
   "metadata": {},
   "outputs": [],
   "source": [
    "nueva_frase"
   ]
  },
  {
   "cell_type": "markdown",
   "id": "4ed01d93",
   "metadata": {},
   "source": [
    "- Hacer stride de paso 2 con la nueva frase"
   ]
  },
  {
   "cell_type": "code",
   "execution_count": null,
   "id": "ad0072cd",
   "metadata": {},
   "outputs": [],
   "source": [
    "nueva_frase[::2]"
   ]
  },
  {
   "cell_type": "markdown",
   "id": "49f704a6",
   "metadata": {},
   "source": [
    "- Obten las vocales de la palabra **\"Nunca\"** y **\"una\"**, haciendo sling a la frase y luego stride"
   ]
  },
  {
   "cell_type": "code",
   "execution_count": null,
   "id": "e3da06b4",
   "metadata": {},
   "outputs": [],
   "source": [
    "frase[1:5:3]"
   ]
  },
  {
   "cell_type": "code",
   "execution_count": null,
   "id": "3e2759c4",
   "metadata": {},
   "outputs": [],
   "source": [
    "frase[55:58:2]"
   ]
  },
  {
   "cell_type": "markdown",
   "id": "0a42a1a3",
   "metadata": {},
   "source": [
    "- Encuentra el indice de la palabra **\"ordenador\"** y guardarlo en la variable indice_1"
   ]
  },
  {
   "cell_type": "code",
   "execution_count": null,
   "id": "b91458ad",
   "metadata": {},
   "outputs": [],
   "source": [
    "indice_1 = frase.index(\"ordenador\")\n",
    "indice_1"
   ]
  },
  {
   "cell_type": "markdown",
   "id": "04dc8653",
   "metadata": {},
   "source": [
    "- Encuentra el indice de la palabra **\"ventana\"** y guardalo en la variable indice_2"
   ]
  },
  {
   "cell_type": "code",
   "execution_count": null,
   "id": "b01ec2bd",
   "metadata": {},
   "outputs": [],
   "source": [
    "indice_2 = frase.index(\"ventana\")\n",
    "indice_2"
   ]
  },
  {
   "cell_type": "markdown",
   "id": "1ba23cc3",
   "metadata": {},
   "source": [
    "- Obtener la frase: **\"ordenador que no puedas lanzar por una ventana\"** haciendo slicing y utilizando las variables: indice_1 y indice_2"
   ]
  },
  {
   "cell_type": "code",
   "execution_count": null,
   "id": "3d07c17e",
   "metadata": {},
   "outputs": [],
   "source": [
    "frase[indice_1 : indice_2 + len(\"ventana\")]"
   ]
  },
  {
   "cell_type": "markdown",
   "id": "4ce3d23c",
   "metadata": {},
   "source": [
    "- Verificar si la frase comienza con la cadena **\"nunca\"**"
   ]
  },
  {
   "cell_type": "code",
   "execution_count": null,
   "id": "23f39959",
   "metadata": {},
   "outputs": [],
   "source": [
    "frase.find(\"nunca\")"
   ]
  },
  {
   "cell_type": "markdown",
   "id": "67350650",
   "metadata": {},
   "source": [
    "- Verificar si la frase termina con **\".\"**"
   ]
  },
  {
   "cell_type": "code",
   "execution_count": null,
   "id": "fd459e90",
   "metadata": {},
   "outputs": [],
   "source": [
    "frase.endswith(\".\")"
   ]
  },
  {
   "cell_type": "markdown",
   "id": "92e148d9",
   "metadata": {},
   "source": [
    "- Separar la frase por la cadena **\"que\"** utilizando split()"
   ]
  },
  {
   "cell_type": "code",
   "execution_count": null,
   "id": "d24490e1",
   "metadata": {},
   "outputs": [],
   "source": [
    "frase.split(\"que\")"
   ]
  },
  {
   "cell_type": "markdown",
   "id": "4bd93d27",
   "metadata": {},
   "source": [
    "- Separar la frase por la letra **\"o\"** utilizando split()"
   ]
  },
  {
   "cell_type": "code",
   "execution_count": null,
   "id": "922a9f36",
   "metadata": {},
   "outputs": [],
   "source": [
    "frase.split(\"o\")"
   ]
  },
  {
   "cell_type": "markdown",
   "id": "fb6a50cc",
   "metadata": {},
   "source": [
    "- Cuenta cuantas veces aparecen las vocales en la frase."
   ]
  },
  {
   "cell_type": "code",
   "execution_count": null,
   "id": "64cd99f1",
   "metadata": {},
   "outputs": [],
   "source": [
    "frase.count(\"a\")"
   ]
  },
  {
   "cell_type": "code",
   "execution_count": null,
   "id": "180c8d39",
   "metadata": {},
   "outputs": [],
   "source": [
    "frase.count(\"e\")"
   ]
  },
  {
   "cell_type": "code",
   "execution_count": null,
   "id": "c8fb06ee",
   "metadata": {},
   "outputs": [],
   "source": [
    "frase.count(\"i\")"
   ]
  },
  {
   "cell_type": "code",
   "execution_count": null,
   "id": "e9675c85",
   "metadata": {},
   "outputs": [],
   "source": [
    "frase.count(\"o\")"
   ]
  },
  {
   "cell_type": "code",
   "execution_count": null,
   "id": "884063f4",
   "metadata": {},
   "outputs": [],
   "source": [
    "frase.count(\"u\")"
   ]
  },
  {
   "cell_type": "code",
   "execution_count": null,
   "id": "04bac0f8",
   "metadata": {},
   "outputs": [],
   "source": [
    "################################################################################################################################"
   ]
  }
 ],
 "metadata": {
  "kernelspec": {
   "display_name": "Python 3 (ipykernel)",
   "language": "python",
   "name": "python3"
  },
  "language_info": {
   "codemirror_mode": {
    "name": "ipython",
    "version": 3
   },
   "file_extension": ".py",
   "mimetype": "text/x-python",
   "name": "python",
   "nbconvert_exporter": "python",
   "pygments_lexer": "ipython3",
   "version": "3.9.12"
  }
 },
 "nbformat": 4,
 "nbformat_minor": 5
}
