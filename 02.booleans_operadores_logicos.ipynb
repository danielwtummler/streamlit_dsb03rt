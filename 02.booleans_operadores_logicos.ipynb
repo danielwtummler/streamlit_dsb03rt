{
 "cells": [
  {
   "cell_type": "markdown",
   "id": "8631a289",
   "metadata": {},
   "source": [
    "## Booleans (True & False)\n",
    "\n",
    "Los **Boolans** representan uno de estos dos valores: **True** o **False**.\n",
    "\n",
    "En programación aveces es necesario saber si una expresión es verdadera (True) o falsa (False)\n",
    "\n",
    "En python se pueden evaluar o comparar expresiones y obtener uno de los dos resultados, verdadero o falso.\n",
    "\n",
    "En python, **True** es considerado 1 y **False** es considerado 0.\n",
    "\n",
    "Este tipo de dato se representa con la palabra reservada **`bool`**."
   ]
  },
  {
   "cell_type": "code",
   "execution_count": 1,
   "id": "75f01150",
   "metadata": {},
   "outputs": [
    {
     "data": {
      "text/plain": [
       "True"
      ]
     },
     "execution_count": 1,
     "metadata": {},
     "output_type": "execute_result"
    }
   ],
   "source": [
    "True"
   ]
  },
  {
   "cell_type": "code",
   "execution_count": 2,
   "id": "8abea607",
   "metadata": {},
   "outputs": [
    {
     "data": {
      "text/plain": [
       "False"
      ]
     },
     "execution_count": 2,
     "metadata": {},
     "output_type": "execute_result"
    }
   ],
   "source": [
    "False"
   ]
  },
  {
   "cell_type": "code",
   "execution_count": 3,
   "id": "c0d8f59a",
   "metadata": {},
   "outputs": [],
   "source": [
    "verdadero = True\n",
    "falso = False"
   ]
  },
  {
   "cell_type": "code",
   "execution_count": 4,
   "id": "22cfcbd6",
   "metadata": {},
   "outputs": [
    {
     "data": {
      "text/plain": [
       "1"
      ]
     },
     "execution_count": 4,
     "metadata": {},
     "output_type": "execute_result"
    }
   ],
   "source": [
    "verdadero + falso"
   ]
  },
  {
   "cell_type": "code",
   "execution_count": 5,
   "id": "2637e310",
   "metadata": {},
   "outputs": [
    {
     "data": {
      "text/plain": [
       "-1"
      ]
     },
     "execution_count": 5,
     "metadata": {},
     "output_type": "execute_result"
    }
   ],
   "source": [
    "falso - verdadero"
   ]
  },
  {
   "cell_type": "markdown",
   "id": "fe1716a8",
   "metadata": {},
   "source": [
    "## Operadores de Comparación\n",
    "\n",
    "Como dice su nombre, se utiliza para comparar elementos, su resultado siempre es **True** o **False**.\n",
    "\n",
    "| Operador | Operación     | Ejemplo |\n",
    "|----------|---------------|---------|\n",
    "| ==       | Igual         | x == y  |\n",
    "| !=       | Diferente     | x != y  |\n",
    "| >        | Mayor que     | x > y   |\n",
    "| <        | Menor que     | x < y   |\n",
    "| >=       | Mayor o igual | x >= y  |\n",
    "| <=       | Menor o igual | x <= y  |"
   ]
  },
  {
   "cell_type": "code",
   "execution_count": 6,
   "id": "910fb03a",
   "metadata": {},
   "outputs": [
    {
     "data": {
      "text/plain": [
       "True"
      ]
     },
     "execution_count": 6,
     "metadata": {},
     "output_type": "execute_result"
    }
   ],
   "source": [
    "1 == 1"
   ]
  },
  {
   "cell_type": "code",
   "execution_count": 7,
   "id": "0a2284ce",
   "metadata": {},
   "outputs": [
    {
     "data": {
      "text/plain": [
       "False"
      ]
     },
     "execution_count": 7,
     "metadata": {},
     "output_type": "execute_result"
    }
   ],
   "source": [
    "1 != 1"
   ]
  },
  {
   "cell_type": "code",
   "execution_count": 8,
   "id": "c58c75e9",
   "metadata": {},
   "outputs": [
    {
     "data": {
      "text/plain": [
       "False"
      ]
     },
     "execution_count": 8,
     "metadata": {},
     "output_type": "execute_result"
    }
   ],
   "source": [
    "a = 3\n",
    "b = 4\n",
    "\n",
    "a == b"
   ]
  },
  {
   "cell_type": "code",
   "execution_count": 9,
   "id": "586bb6ef",
   "metadata": {},
   "outputs": [
    {
     "data": {
      "text/plain": [
       "True"
      ]
     },
     "execution_count": 9,
     "metadata": {},
     "output_type": "execute_result"
    }
   ],
   "source": [
    "4 > 0"
   ]
  },
  {
   "cell_type": "code",
   "execution_count": 10,
   "id": "278a4510",
   "metadata": {},
   "outputs": [
    {
     "data": {
      "text/plain": [
       "True"
      ]
     },
     "execution_count": 10,
     "metadata": {},
     "output_type": "execute_result"
    }
   ],
   "source": [
    "3.1 < 10"
   ]
  },
  {
   "cell_type": "code",
   "execution_count": 11,
   "id": "a3f184f5",
   "metadata": {},
   "outputs": [
    {
     "data": {
      "text/plain": [
       "True"
      ]
     },
     "execution_count": 11,
     "metadata": {},
     "output_type": "execute_result"
    }
   ],
   "source": [
    "b >= a"
   ]
  },
  {
   "cell_type": "markdown",
   "id": "9dc8b7f3",
   "metadata": {},
   "source": [
    "## Operadores Lógicos\n",
    "\n",
    "Se utilizan en conjunto con los operadores de comparación, su función es unir diferentes declaraciones:\n",
    "\n",
    "| Operador | Descripción                                                                                  | Ejemplo           |\n",
    "|----------|----------------------------------------------------------------------------------------------|-------------------|\n",
    "| and o `&`| Retorna True si todas las declaraciones son True, sino, retorna False                        | x > 5 and x < 10  |\n",
    "| or o `\\|`| Retorna True si al menos una de las declaraciones son True, retorna False si todas son False | x > 5 or x < 10   |\n",
    "| not o `~`| Invierte el resultado de la operación                                                        | not(x > 5 or x < 10)|"
   ]
  },
  {
   "cell_type": "code",
   "execution_count": 12,
   "id": "fa41cc63",
   "metadata": {},
   "outputs": [],
   "source": [
    "a = 100\n",
    "b = 200\n",
    "c = 300\n",
    "d = 500"
   ]
  },
  {
   "cell_type": "code",
   "execution_count": 13,
   "id": "e8c4e3a6",
   "metadata": {},
   "outputs": [
    {
     "data": {
      "text/plain": [
       "True"
      ]
     },
     "execution_count": 13,
     "metadata": {},
     "output_type": "execute_result"
    }
   ],
   "source": [
    "b > a"
   ]
  },
  {
   "cell_type": "code",
   "execution_count": 14,
   "id": "3eb452fa",
   "metadata": {},
   "outputs": [
    {
     "data": {
      "text/plain": [
       "True"
      ]
     },
     "execution_count": 14,
     "metadata": {},
     "output_type": "execute_result"
    }
   ],
   "source": [
    "b < c"
   ]
  },
  {
   "cell_type": "code",
   "execution_count": 18,
   "id": "50ac8b5f",
   "metadata": {},
   "outputs": [
    {
     "data": {
      "text/plain": [
       "True"
      ]
     },
     "execution_count": 18,
     "metadata": {},
     "output_type": "execute_result"
    }
   ],
   "source": [
    "b > a and b < c"
   ]
  },
  {
   "cell_type": "code",
   "execution_count": 17,
   "id": "f7ad5928",
   "metadata": {},
   "outputs": [
    {
     "data": {
      "text/plain": [
       "True"
      ]
     },
     "execution_count": 17,
     "metadata": {},
     "output_type": "execute_result"
    }
   ],
   "source": [
    "b > a & b < c"
   ]
  },
  {
   "cell_type": "code",
   "execution_count": 21,
   "id": "58ba64db",
   "metadata": {},
   "outputs": [
    {
     "data": {
      "text/plain": [
       "True"
      ]
     },
     "execution_count": 21,
     "metadata": {},
     "output_type": "execute_result"
    }
   ],
   "source": [
    "c > a or c > d"
   ]
  },
  {
   "cell_type": "code",
   "execution_count": 22,
   "id": "ac7f599f",
   "metadata": {},
   "outputs": [
    {
     "data": {
      "text/plain": [
       "True"
      ]
     },
     "execution_count": 22,
     "metadata": {},
     "output_type": "execute_result"
    }
   ],
   "source": [
    "(c > a) | (c > d)"
   ]
  },
  {
   "cell_type": "code",
   "execution_count": 23,
   "id": "a888d028",
   "metadata": {},
   "outputs": [
    {
     "data": {
      "text/plain": [
       "True"
      ]
     },
     "execution_count": 23,
     "metadata": {},
     "output_type": "execute_result"
    }
   ],
   "source": [
    "b > a"
   ]
  },
  {
   "cell_type": "code",
   "execution_count": 24,
   "id": "564c48fc",
   "metadata": {},
   "outputs": [
    {
     "data": {
      "text/plain": [
       "False"
      ]
     },
     "execution_count": 24,
     "metadata": {},
     "output_type": "execute_result"
    }
   ],
   "source": [
    "not(b > a)"
   ]
  },
  {
   "cell_type": "code",
   "execution_count": null,
   "id": "443e7993",
   "metadata": {},
   "outputs": [],
   "source": [
    "################################################################################################################################"
   ]
  }
 ],
 "metadata": {
  "kernelspec": {
   "display_name": "Python 3 (ipykernel)",
   "language": "python",
   "name": "python3"
  },
  "language_info": {
   "codemirror_mode": {
    "name": "ipython",
    "version": 3
   },
   "file_extension": ".py",
   "mimetype": "text/x-python",
   "name": "python",
   "nbconvert_exporter": "python",
   "pygments_lexer": "ipython3",
   "version": "3.9.12"
  }
 },
 "nbformat": 4,
 "nbformat_minor": 5
}
